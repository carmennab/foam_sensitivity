{
 "cells": [
  {
   "cell_type": "code",
   "execution_count": 2,
   "id": "db6a87e9",
   "metadata": {},
   "outputs": [
    {
     "name": "stderr",
     "output_type": "stream",
     "text": [
      "/opt/anaconda3/envs/phd/lib/python3.8/site-packages/pyproj/crs.py:77: FutureWarning: '+init=<authority>:<code>' syntax is deprecated. '<authority>:<code>' is the preferred initialization method.\n",
      "  return _prepare_from_string(\" \".join(pjargs))\n"
     ]
    }
   ],
   "source": [
    "import numpy as np\n",
    "from netCDF4 import Dataset\n",
    "import datetime\n",
    "import glob\n",
    "import os\n",
    "from matplotlib.ticker import FormatStrFormatter\n",
    "import matplotlib.pyplot as plt\n",
    "import cartopy\n",
    "from matplotlib import gridspec\n",
    "from regrid import regrid\n",
    "import itertools\n",
    "import cartopy.crs as ccrs\n",
    "import tqdm\n",
    "from scipy.stats import linregress\n",
    "import warnings\n",
    "warnings.filterwarnings(\"ignore\")"
   ]
  },
  {
   "cell_type": "code",
   "execution_count": 3,
   "id": "8f924d85",
   "metadata": {},
   "outputs": [],
   "source": [
    "datapath = '/Users/carmennab/Dropbox/met_office/data/experiments/FOAM_grid/'\n",
    "ctrl = Dataset(datapath+'rosie_UCL_CTL_NOSIT_ASSIM_r243541_dcarneir.nc')\n",
    "base = Dataset(datapath+'rosie_UCL_BASELINE_SIT_ASSIM_CS2_AWI_SNFOAM_ALPHA1_r243541_dcarneir.nc')\n",
    "unc = Dataset(datapath+'rosie_UCL_SIT_ASSIM_CS2_AWI_SNFOAM_ALPHA1_NEW_OBERR_r243541_dcarneir.nc')\n",
    "### alpha\n",
    "nine = Dataset(datapath+'rosie_UCL_SIT_ASSIM_CS2_AWI_SNFOAM_ALPHA09_r243541_dcarneir.nc')\n",
    "six = Dataset(datapath+'rosie_UCL_SIT_ASSIM_CS2_AWI_SNFOAM_ALPHA06_r243541_dcarneir.nc')\n",
    "### retracker\n",
    "larm = Dataset(datapath+'rosie_UCL_SIT_ASSIM_CS2_BRISTOL_SNFOAM_ALPHA1_r243541_dcarneir.nc')\n",
    "cpom = Dataset(datapath+'rosie_UCL_SIT_ASSIM_CS2_CPOM_SNFOAM_ALPHA1_r243541_dcarneir.nc')\n",
    "### snow\n",
    "smlg = Dataset(datapath+'rosie_UCL_SIT_ASSIM_CS2_AWI_SNLG_ALPHA1_r243541_dcarneir.nc')\n",
    "awi = Dataset(datapath+'rosie_UCL_SIT_ASSIM_CS2_AWI_SNAWI_ALPHA1_r243541_dcarneir.nc')"
   ]
  },
  {
   "cell_type": "code",
   "execution_count": 4,
   "id": "c2607978",
   "metadata": {},
   "outputs": [],
   "source": [
    "rho_fyi = 916.7\n",
    "rho_myi = 882\n",
    "icetype = np.array(Dataset('/Users/carmennab/Dropbox/met_office/data/auxiliary/icetype.nc')['Ice Type'])\n",
    "icetype[icetype==2] = rho_fyi\n",
    "icetype[icetype==3] = rho_myi"
   ]
  },
  {
   "cell_type": "code",
   "execution_count": 5,
   "id": "6efb5de1",
   "metadata": {},
   "outputs": [],
   "source": [
    "foam_lats = np.load('/Users/carmennab/Dropbox/met_office/data/auxiliary/lat_cent.npy')\n",
    "foam_lons = np.load('/Users/carmennab/Dropbox/met_office/data/auxiliary/lon_cent.npy')\n",
    "\n",
    "sits = [ctrl,base,nine,six,larm,cpom,smlg,awi,unc]\n",
    "\n",
    "names = ['CTRL','BASE','\\u03B1_0.9', '\\u03B1_0.6','FB_LARM','FB_CPOM','SN_SMLG','SN_AWI','UNC']"
   ]
  },
  {
   "cell_type": "code",
   "execution_count": 6,
   "id": "2201aaf2",
   "metadata": {},
   "outputs": [],
   "source": [
    "thicks = {}\n",
    "for name, sit in zip(names,sits):\n",
    "    rate = np.array(sit['sidmassth']) # sea-ice mass change from thermodynamics kg/m2/s\n",
    "    \n",
    "    dens = icetype.copy() \n",
    "    thick = rate / dens # thickness change in m3/m2/s \n",
    "    thick_day = thick * 86400 # convert from rate per second to thickness per day m3/m2/day = m/day\n",
    "\n",
    "    thicks[name] = thick_day"
   ]
  },
  {
   "cell_type": "markdown",
   "id": "4c0b1d27",
   "metadata": {},
   "source": [
    "### regional difference"
   ]
  },
  {
   "cell_type": "code",
   "execution_count": 7,
   "id": "090a133d",
   "metadata": {},
   "outputs": [],
   "source": [
    "names = ['BASE','\\u03B1_0.9', '\\u03B1_0.6','FB_LARM','FB_CPOM','SN_SMLG','SN_AWI']\n",
    "mask_values = np.load('/Users/carmennab/Dropbox/OI_PolarSnow/EASE/auxiliary/NSIDC_Regions_Mask.npy')\n",
    "regions = ['Baffin','Greenland','Barents','Kara','Laptev','E. Siberian','Chukchi','Beaufort','Central Arctic',\n",
    "           'Pan-Arctic']\n",
    "regs = [6,7,8,9,10,11,12,13,15,[6,7,8,9,10,11,12,13,15]]\n",
    "\n",
    "old_lon = np.load('/Users/carmennab/Dropbox/OI_PolarSnow/EASE/auxiliary/new_lon_25km.npy')\n",
    "old_lat = np.load('/Users/carmennab/Dropbox/OI_PolarSnow/EASE/auxiliary/new_lat_25km.npy')\n",
    "foam_lats = np.load('/Users/carmennab/Dropbox/met_office/data/auxiliary/lat_cent.npy')\n",
    "foam_lons = np.load('/Users/carmennab/Dropbox/met_office/data/auxiliary/lon_cent.npy')\n",
    "\n",
    "reg_mask = regrid(mask_values,old_lon,old_lat,foam_lons,foam_lats)\n",
    "\n",
    "days = np.arange(0,212)"
   ]
  },
  {
   "cell_type": "markdown",
   "id": "538cc28c",
   "metadata": {},
   "source": [
    "### absolute difference"
   ]
  },
  {
   "cell_type": "code",
   "execution_count": null,
   "id": "021fe9f0",
   "metadata": {},
   "outputs": [],
   "source": [
    "snows = [] ; freeboards = [] ; alphas = []\n",
    "\n",
    "for region, reg in zip(regions, regs):\n",
    "\n",
    "    base_c = thicks['BASE'].copy() ; awi_c = thicks['SN_AWI'].copy() ; smlg_c = thicks['SN_SMLG'].copy()\n",
    "    larm_c = thicks['FB_LARM'].copy() ; cpom_c = thicks['FB_CPOM'].copy(); nine_c = thicks['\\u03B1_0.9'].copy()\n",
    "    six_c = thicks['\\u03B1_0.6'].copy()\n",
    "\n",
    "    sits = [base_c,awi_c,smlg_c,larm_c,cpom_c,nine_c,six_c]\n",
    "    \n",
    "    mask = np.where(np.isin(reg_mask,reg))\n",
    "\n",
    "    snow1 = np.array([smlg_c[day][mask] - base_c[day][mask] for day in days]) * 100\n",
    "    snow2 = np.array([awi_c[day][mask] - base_c[day][mask] for day in days]) * 100\n",
    "    snow = np.vstack((snow1,snow2))\n",
    "\n",
    "    fb1 = np.array([cpom_c[day][mask] - base_c[day][mask] for day in days]) * 100\n",
    "    fb2 = np.array([larm_c[day][mask] - base_c[day][mask] for day in days]) * 100\n",
    "    freeboard = np.vstack((fb1,fb2))\n",
    "\n",
    "    alpha1 = np.array([six_c[day][mask] - base_c[day][mask] for day in days]) * 100\n",
    "    alpha2 = np.array([nine_c[day][mask] - base_c[day][mask] for day in days]) * 100     \n",
    "    alpha = np.vstack((alpha1,alpha2))   \n",
    "\n",
    "    snows.append(snow[~np.isnan(snow)].ravel())\n",
    "    freeboards.append(freeboard[~np.isnan(freeboard)].ravel())\n",
    "    alphas.append(alpha[~np.isnan(alpha)].ravel())\n",
    "    \n",
    "#     print(region, np.nanmean(np.abs(snow)),np.nanmean(np.abs(freeboard)),np.nanmean(np.abs(alpha)))\n",
    "#     print(region, np.nanstd(np.abs(snow)),np.nanstd(np.abs(freeboard)),np.nanstd(np.abs(alpha)))"
   ]
  },
  {
   "cell_type": "markdown",
   "id": "7538b15b",
   "metadata": {},
   "source": [
    "### percentage difference"
   ]
  },
  {
   "cell_type": "code",
   "execution_count": 8,
   "id": "158fd4a4",
   "metadata": {},
   "outputs": [],
   "source": [
    "snows_per = [] ; freeboards_per = [] ; alphas_per = []\n",
    "\n",
    "for region, reg in zip(regions, regs):\n",
    "\n",
    "    base_c = thicks['BASE'].copy() ; awi_c = thicks['SN_AWI'].copy() ; smlg_c = thicks['SN_SMLG'].copy()\n",
    "    larm_c = thicks['FB_LARM'].copy() ; cpom_c = thicks['FB_CPOM'].copy(); nine_c = thicks['\\u03B1_0.9'].copy()\n",
    "    six_c = thicks['\\u03B1_0.6'].copy()\n",
    "\n",
    "    sits = [base_c,awi_c,smlg_c,larm_c,cpom_c,nine_c,six_c]\n",
    "    \n",
    "    mask = np.where(np.isin(reg_mask,reg))\n",
    "\n",
    "    snow1 = np.array([((smlg_c[day][mask] - base_c[day][mask])/base_c[day][mask])*100 for day in days])\n",
    "    snow2 = np.array([((awi_c[day][mask] - base_c[day][mask])/base_c[day][mask])*100 for day in days])\n",
    "    snow = np.vstack((snow1,snow2))\n",
    "\n",
    "    fb1 = np.array([((cpom_c[day][mask] - base_c[day][mask])/base_c[day][mask])*100 for day in days])\n",
    "    fb2 = np.array([((larm_c[day][mask] - base_c[day][mask])/base_c[day][mask])*100 for day in days])    \n",
    "    freeboard = np.vstack((fb1,fb2))\n",
    "\n",
    "    alpha1 = np.array([((six_c[day][mask] - base_c[day][mask])/base_c[day][mask])*100 for day in days])\n",
    "    alpha2 = np.array([((nine_c[day][mask] - base_c[day][mask])/base_c[day][mask])*100 for day in days])     \n",
    "    alpha = np.vstack((alpha1,alpha2))  \n",
    "    \n",
    "    snow[np.isinf(snow)] = np.nan\n",
    "    freeboard[np.isinf(freeboard)] = np.nan\n",
    "    alpha[np.isinf(alpha)] = np.nan\n",
    "    \n",
    "    snow[snow>2000] = np.nan\n",
    "    freeboard[freeboard>2000] = np.nan\n",
    "    alpha[alpha>2000] = np.nan\n",
    "    \n",
    "    snow[snow<-2000] = np.nan\n",
    "    freeboard[freeboard<-2000] = np.nan\n",
    "    alpha[alpha<-2000] = np.nan\n",
    "\n",
    "    snows_per.append(snow[~np.isnan(snow)].ravel())\n",
    "    freeboards_per.append(freeboard[~np.isnan(freeboard)].ravel())\n",
    "    alphas_per.append(alpha[~np.isnan(alpha)].ravel())"
   ]
  },
  {
   "cell_type": "markdown",
   "id": "976f8978",
   "metadata": {},
   "source": [
    "### plot figure"
   ]
  },
  {
   "cell_type": "code",
   "execution_count": 17,
   "id": "a09e4bad",
   "metadata": {},
   "outputs": [
    {
     "data": {
      "image/png": "[encoded data removed]",
      "text/plain": [
       "<Figure size 1080x828 with 6 Axes>"
      ]
     },
     "metadata": {
      "needs_background": "light"
     },
     "output_type": "display_data"
    }
   ],
   "source": [
    "variables = ['radar penetration (\\u03B1)','freeboard product','snow depth','radar penetration (\\u03B1)',\n",
    "             'freeboard product','snow depth']\n",
    "data = [alphas,freeboards,snows,alphas_per,freeboards_per,snows_per,alphas_per,freeboards_per,snows_per]\n",
    "ylims = [[-1,1],[-1.5,1.5],[-1.5,1.5],[-150,150],[-200,200],[-200,200]]\n",
    "yticks = [[-1,-0.5,0,0.5,1],[-1.5,-0.5,0,0.5,1.5],[-1.5,-0.5,0,0.5,1.5],[-150,-50,0,50,150],[-200,-100,0,100,200],\n",
    "          [-200,-100,0,100,200]]\n",
    "\n",
    "fig = plt.figure(figsize=(15,11.5))\n",
    "spec = gridspec.GridSpec(ncols=3, nrows=2, hspace=0.15, wspace=0.15)\n",
    "\n",
    "for count, variable in enumerate(variables):\n",
    "    ax = fig.add_subplot(spec[count])\n",
    "    ax.axhline(0,linestyle='dashed',color='black',linewidth=0.5)\n",
    "    ax.boxplot(data[count], widths=0.5, patch_artist=True,\n",
    "                    showfliers=False, showmeans = True,\n",
    "                    medianprops={\"color\": \"black\", \"linewidth\": 0.5},\n",
    "                    meanprops={\"color\": \"green\", \"marker\": 'o',\"markersize\":'2'},\n",
    "                    boxprops={\"facecolor\": \"pink\", \"edgecolor\": \"black\",\n",
    "                              \"linewidth\": 0.5},\n",
    "                    whiskerprops={\"color\": \"black\", \"linewidth\": 0.5},\n",
    "                    capprops={\"color\": \"black\", \"linewidth\": 0.5})\n",
    "    \n",
    "    if count <3:\n",
    "        ax.set_xticklabels([])\n",
    "        ax.ticklabel_format(axis='y', style='sci', scilimits=(0,0))\n",
    "    else:\n",
    "        ax.set_xticklabels(regions,rotation=45)\n",
    "    ax.set_title(variable,fontsize=15)\n",
    "    ax.set_ylim(ylims[count])\n",
    "    ax.set_yticks(yticks[count])\n",
    "    \n",
    "    if count == 0:\n",
    "        ax.set_ylabel('difference (cm)',fontsize=15,labelpad=10)\n",
    "    if count == 3:\n",
    "        ax.set_ylabel('difference (%)',fontsize=15,labelpad=10)\n",
    "        \n",
    "plt.savefig('/Users/carmennab/Dropbox/Apps/Overleaf/FOAM sensitivity/main_figs/tmc_box_effective.png',dpi=400, \n",
    "            bbox_inches=\"tight\")"
   ]
  }
 ],
 "metadata": {
  "kernelspec": {
   "display_name": "Python 3 (ipykernel)",
   "language": "python",
   "name": "python3"
  },
  "language_info": {
   "codemirror_mode": {
    "name": "ipython",
    "version": 3
   },
   "file_extension": ".py",
   "mimetype": "text/x-python",
   "name": "python",
   "nbconvert_exporter": "python",
   "pygments_lexer": "ipython3",
   "version": "3.8.19"
  }
 },
 "nbformat": 4,
 "nbformat_minor": 5
}
