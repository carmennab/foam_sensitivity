{
 "cells": [
  {
   "cell_type": "code",
   "execution_count": 1,
   "id": "6e3d506d",
   "metadata": {},
   "outputs": [
    {
     "name": "stderr",
     "output_type": "stream",
     "text": [
      "/opt/anaconda3/envs/phd/lib/python3.8/site-packages/pyproj/crs.py:77: FutureWarning: '+init=<authority>:<code>' syntax is deprecated. '<authority>:<code>' is the preferred initialization method.\n",
      "  return _prepare_from_string(\" \".join(pjargs))\n"
     ]
    }
   ],
   "source": [
    "import numpy as np\n",
    "from netCDF4 import Dataset\n",
    "import datetime\n",
    "import glob\n",
    "import os\n",
    "from regrid import regrid\n",
    "import matplotlib.pyplot as plt\n",
    "import cartopy\n",
    "from matplotlib import gridspec\n",
    "import itertools\n",
    "import cartopy.crs as ccrs\n",
    "import tqdm\n",
    "from scipy.stats import linregress\n",
    "import warnings\n",
    "warnings.filterwarnings(\"ignore\")"
   ]
  },
  {
   "cell_type": "markdown",
   "id": "2d08d5f4",
   "metadata": {},
   "source": [
    "### load experiments"
   ]
  },
  {
   "cell_type": "code",
   "execution_count": 2,
   "id": "338a7668",
   "metadata": {},
   "outputs": [],
   "source": [
    "datapath = '/Users/carmennab/Dropbox/met_office/data/experiments/FOAM_grid/'\n",
    "\n",
    "base = np.array(Dataset(datapath+'rosie_UCL_BASELINE_SIT_ASSIM_CS2_AWI_SNFOAM_ALPHA1_r243541_dcarneir.nc')['sivolu'])\n",
    "### alpha\n",
    "nine = np.array(Dataset(datapath+'rosie_UCL_SIT_ASSIM_CS2_AWI_SNFOAM_ALPHA09_r243541_dcarneir.nc')['sivolu'])\n",
    "six = np.array(Dataset(datapath+'rosie_UCL_SIT_ASSIM_CS2_AWI_SNFOAM_ALPHA06_r243541_dcarneir.nc')['sivolu'])\n",
    "### retracker\n",
    "larm = np.array(Dataset(datapath+'rosie_UCL_SIT_ASSIM_CS2_BRISTOL_SNFOAM_ALPHA1_r243541_dcarneir.nc')['sivolu'])\n",
    "cpom = np.array(Dataset(datapath+'rosie_UCL_SIT_ASSIM_CS2_CPOM_SNFOAM_ALPHA1_r243541_dcarneir.nc')['sivolu'])\n",
    "### snow\n",
    "smlg = np.array(Dataset(datapath+'rosie_UCL_SIT_ASSIM_CS2_AWI_SNLG_ALPHA1_r243541_dcarneir.nc')['sivolu'])\n",
    "awi = np.array(Dataset(datapath+'rosie_UCL_SIT_ASSIM_CS2_AWI_SNAWI_ALPHA1_r243541_dcarneir.nc')['sivolu'])"
   ]
  },
  {
   "cell_type": "markdown",
   "id": "9c0012cb",
   "metadata": {},
   "source": [
    "### plot regional difference boxplot"
   ]
  },
  {
   "cell_type": "code",
   "execution_count": 3,
   "id": "ea82201e",
   "metadata": {},
   "outputs": [],
   "source": [
    "mask_values = np.load('/Users/carmennab/Dropbox/OI_PolarSnow/EASE/auxiliary/NSIDC_Regions_Mask.npy')\n",
    "regions = ['Baffin','Greenland','Barents','Kara','Laptev','E. Siberian','Chukchi','Beaufort','Central Arctic',\n",
    "           'Pan-Arctic']\n",
    "regs = [6,7,8,9,10,11,12,13,15,[6,7,8,9,10,11,12,13,15]]\n",
    "\n",
    "old_lon = np.load('/Users/carmennab/Dropbox/OI_PolarSnow/EASE/auxiliary/new_lon_25km.npy')\n",
    "old_lat = np.load('/Users/carmennab/Dropbox/OI_PolarSnow/EASE/auxiliary/new_lat_25km.npy')\n",
    "foam_lats = np.load('/Users/carmennab/Dropbox/met_office/data/auxiliary/lat_cent.npy')\n",
    "foam_lons = np.load('/Users/carmennab/Dropbox/met_office/data/auxiliary/lon_cent.npy')\n",
    "\n",
    "reg_mask = regrid(mask_values,old_lon,old_lat,foam_lons,foam_lats)\n",
    "\n",
    "days = np.arange(0,212)"
   ]
  },
  {
   "cell_type": "markdown",
   "id": "6781a20e",
   "metadata": {},
   "source": [
    "### absolute difference"
   ]
  },
  {
   "cell_type": "code",
   "execution_count": 4,
   "id": "6d79e5bb",
   "metadata": {},
   "outputs": [
    {
     "name": "stdout",
     "output_type": "stream",
     "text": [
      "Baffin 0.01 0.01 0.01\n",
      "Baffin 0.66 0.62 0.58\n",
      "Baffin 0.02 0.02 0.02\n",
      "Greenland 0.01 0.02 0.01\n",
      "Greenland 1.32 1.57 1.07\n",
      "Greenland 0.05 0.07 0.05\n",
      "Barents 0.00 0.00 0.00\n",
      "Barents 0.23 0.51 0.36\n",
      "Barents 0.00 0.01 0.00\n",
      "Kara 0.01 0.02 0.02\n",
      "Kara 0.79 0.70 1.02\n",
      "Kara 0.04 0.04 0.06\n",
      "Laptev 0.07 0.07 0.04\n",
      "Laptev 1.48 1.18 1.02\n",
      "Laptev 0.11 0.11 0.08\n",
      "E. Siberian 0.14 0.11 0.12\n",
      "E. Siberian 1.46 1.10 1.25\n",
      "E. Siberian 0.17 0.13 0.15\n",
      "Chukchi 0.05 0.09 0.09\n",
      "Chukchi 0.83 1.24 1.07\n",
      "Chukchi 0.08 0.13 0.14\n",
      "Beaufort 0.18 0.07 0.09\n",
      "Beaufort 1.48 1.16 1.32\n",
      "Beaufort 0.21 0.09 0.12\n",
      "Central Arctic 0.26 0.15 0.21\n",
      "Central Arctic 1.49 2.35 1.63\n",
      "Central Arctic 0.20 0.14 0.21\n",
      "Pan-Arctic 0.11 0.07 0.08\n",
      "Pan-Arctic 1.49 2.35 1.63\n",
      "Pan-Arctic 0.17 0.11 0.15\n"
     ]
    }
   ],
   "source": [
    "snows = [] ; freeboards = [] ; alphas = []\n",
    "\n",
    "for region, reg in zip(regions, regs):\n",
    "\n",
    "    base_c = base.copy() ; awi_c = awi.copy() ; smlg_c = smlg.copy() ; larm_c = larm.copy()\n",
    "    cpom_c = cpom.copy(); nine_c = nine.copy() ; six_c = six.copy()\n",
    "\n",
    "    sits = [base_c,awi_c,smlg_c,larm_c,cpom_c,nine_c,six_c]\n",
    "    \n",
    "    mask = np.where(np.isin(reg_mask,reg))\n",
    "\n",
    "    snow1 = np.array([smlg_c[day][mask] - base_c[day][mask] for day in days])\n",
    "    snow2 = np.array([awi_c[day][mask] - base_c[day][mask] for day in days])\n",
    "    snow = np.vstack((snow1,snow2))\n",
    "\n",
    "    fb1 = np.array([cpom_c[day][mask] - base_c[day][mask] for day in days])\n",
    "    fb2 = np.array([larm_c[day][mask] - base_c[day][mask] for day in days])    \n",
    "    freeboard = np.vstack((fb1,fb2))\n",
    "\n",
    "    alpha1 = np.array([six_c[day][mask] - base_c[day][mask] for day in days])\n",
    "    alpha2 = np.array([nine_c[day][mask] - base_c[day][mask] for day in days])     \n",
    "    alpha = np.vstack((alpha1,alpha2))   \n",
    "\n",
    "    snows.append(snow[~np.isnan(snow)].ravel())\n",
    "    freeboards.append(freeboard[~np.isnan(freeboard)].ravel())\n",
    "    alphas.append(alpha[~np.isnan(alpha)].ravel())\n",
    "    \n",
    "#    print(region, '%.2f'%np.nanmean(np.abs(snow)),'%.2f'%np.nanmean(np.abs(freeboard)),'%.2f'%np.nanmean(np.abs(alpha)))\n",
    "#    print(region, '%.2f'%np.nanmax(np.abs(snow)),'%.2f'%np.nanmax(np.abs(freeboard)),'%.2f'%np.nanmax(np.abs(alpha)))\n",
    "#    print(region, '%.2f'%np.nanstd(np.abs(snow)),'%.2f'%np.nanstd(np.abs(freeboard)),'%.2f'%np.nanstd(np.abs(alpha)))"
   ]
  },
  {
   "cell_type": "markdown",
   "id": "fa59e993",
   "metadata": {},
   "source": [
    "### percentage difference"
   ]
  },
  {
   "cell_type": "code",
   "execution_count": 5,
   "id": "9e65f37f",
   "metadata": {},
   "outputs": [
    {
     "name": "stdout",
     "output_type": "stream",
     "text": [
      "Baffin 251.63 344.33 260.79\n",
      "Baffin 70021359.50 318090833.33 76830890.61\n",
      "Baffin 66038.39 192915.27 69198.59\n",
      "Greenland 70.33 159.64 57.18\n",
      "Greenland 10172311.04 51045047.28 2504422.87\n",
      "Greenland 9451.24 50513.38 5326.55\n",
      "Barents 23.94 42.24 26.11\n",
      "Barents 4470625.43 4632842.71 4888850.01\n",
      "Barents 4376.56 6571.97 5770.55\n",
      "Kara 6.75 8.24 8.74\n",
      "Kara 1462582.80 523031.52 4168265.50\n",
      "Kara 1118.85 785.44 3086.80\n",
      "Laptev 6.70 6.54 3.86\n",
      "Laptev 54178.00 72838.73 4669.25\n",
      "Laptev 63.91 81.11 6.73\n",
      "E. Siberian 12.12 11.10 9.76\n",
      "E. Siberian 365674.43 1064195.78 1206201.78\n",
      "E. Siberian 337.28 830.47 1088.79\n",
      "Chukchi 6.96 9.76 7.90\n",
      "Chukchi 336332.73 204421.17 454604.38\n",
      "Chukchi 467.16 318.38 418.66\n",
      "Beaufort 12.13 5.44 5.61\n",
      "Beaufort 209092.53 97581.97 23310.57\n",
      "Beaufort 190.97 77.58 22.60\n",
      "Central Arctic 15.40 27.17 11.60\n",
      "Central Arctic 1133015.85 84154657.83 1070077.72\n",
      "Central Arctic 648.07 33533.45 640.69\n",
      "Pan-Arctic 45.70 69.10 43.75\n",
      "Pan-Arctic 70021359.50 318090833.33 76830890.61\n",
      "Pan-Arctic 22574.83 69639.88 23560.33\n"
     ]
    }
   ],
   "source": [
    "snows_per = [] ; freeboards_per = [] ; alphas_per = []\n",
    "\n",
    "for region, reg in zip(regions, regs):\n",
    "\n",
    "    base_c = base.copy() ; awi_c = awi.copy() ; smlg_c = smlg.copy() ; larm_c = larm.copy()\n",
    "    cpom_c = cpom.copy(); nine_c = nine.copy() ; six_c = six.copy()\n",
    "\n",
    "    sits = [base_c,awi_c,smlg_c,larm_c,cpom_c,nine_c,six_c]\n",
    "    \n",
    "    mask = np.where(np.isin(reg_mask,reg))\n",
    "\n",
    "    snow1 = np.array([((smlg_c[day][mask] - base_c[day][mask])/base_c[day][mask])*100 for day in days])\n",
    "    snow2 = np.array([((awi_c[day][mask] - base_c[day][mask])/base_c[day][mask])*100 for day in days])\n",
    "    snow = np.vstack((snow1,snow2))\n",
    "\n",
    "    fb1 = np.array([((cpom_c[day][mask] - base_c[day][mask])/base_c[day][mask])*100 for day in days])\n",
    "    fb2 = np.array([((larm_c[day][mask] - base_c[day][mask])/base_c[day][mask])*100 for day in days])    \n",
    "    freeboard = np.vstack((fb1,fb2))\n",
    "\n",
    "    alpha1 = np.array([((six_c[day][mask] - base_c[day][mask])/base_c[day][mask])*100 for day in days])\n",
    "    alpha2 = np.array([((nine_c[day][mask] - base_c[day][mask])/base_c[day][mask])*100 for day in days])     \n",
    "    alpha = np.vstack((alpha1,alpha2))  \n",
    "    \n",
    "    snow[np.isinf(snow)] = np.nan\n",
    "    freeboard[np.isinf(freeboard)] = np.nan\n",
    "    alpha[np.isinf(alpha)] = np.nan\n",
    "\n",
    "    snows_per.append(snow[~np.isnan(snow)].ravel())\n",
    "    freeboards_per.append(freeboard[~np.isnan(freeboard)].ravel())\n",
    "    alphas_per.append(alpha[~np.isnan(alpha)].ravel())\n",
    "    \n",
    "#    print(region, '%.2f'%np.nanmean(np.abs(snow)),'%.2f'%np.nanmean(np.abs(freeboard)),'%.2f'%np.nanmean(np.abs(alpha)))\n",
    "#    print(region, '%.2f'%np.nanmax(np.abs(snow)),'%.2f'%np.nanmax(np.abs(freeboard)),'%.2f'%np.nanmax(np.abs(alpha)))\n",
    "#    print(region, '%.2f'%np.nanstd(np.abs(snow)),'%.2f'%np.nanstd(np.abs(freeboard)),'%.2f'%np.nanstd(np.abs(alpha)))"
   ]
  },
  {
   "cell_type": "markdown",
   "id": "32fe3e50",
   "metadata": {},
   "source": [
    "### plot figure"
   ]
  },
  {
   "cell_type": "code",
   "execution_count": 6,
   "id": "8d4a985e",
   "metadata": {},
   "outputs": [
    {
     "data": {
      "image/png": "[encoded data removed]",
      "text/plain": [
       "<Figure size 1080x828 with 6 Axes>"
      ]
     },
     "metadata": {
      "needs_background": "light"
     },
     "output_type": "display_data"
    }
   ],
   "source": [
    "variables = ['radar penetration (\\u03B1)','freeboard product','snow depth','radar penetration (\\u03B1)',\n",
    "             'freeboard product','snow depth']\n",
    "data = [alphas,freeboards,snows,alphas_per,freeboards_per,snows_per]\n",
    "ylims = [[-0.8,0.8] , [-0.6,0.6], [-1,1], [-40,40], [-50,50], [-50,50]] \n",
    "yticks = [[-0.8,-0.4,0,0.4,0.8],[-0.6,-0.3,0,0.3,0.6],[-1,-0.5,0,0.5,1],\n",
    "         [-40,-20,0,20,40],[-50,-25,0,25,50],[-50,-25,0,25,50]]\n",
    "\n",
    "fig = plt.figure(figsize=(15,11.5))\n",
    "spec = gridspec.GridSpec(ncols=3, nrows=2, hspace=0.15, wspace=0.15)\n",
    "\n",
    "for count, variable in enumerate(variables):\n",
    "    ax = fig.add_subplot(spec[count])\n",
    "    ax.axhline(0,linestyle='dashed',color='black',linewidth=0.5)\n",
    "    ax.boxplot(data[count], widths=0.5, patch_artist=True,\n",
    "                    showfliers=False, showmeans = True,\n",
    "                    medianprops={\"color\": \"black\", \"linewidth\": 0.5},\n",
    "                    meanprops={\"color\": \"green\", \"marker\": 'o',\"markersize\":'2'},\n",
    "                    boxprops={\"facecolor\": \"pink\", \"edgecolor\": \"black\",\n",
    "                              \"linewidth\": 0.5},\n",
    "                    whiskerprops={\"color\": \"black\", \"linewidth\": 0.5},\n",
    "                    capprops={\"color\": \"black\", \"linewidth\": 0.5})\n",
    "\n",
    "    if count <3:\n",
    "        ax.set_xticklabels([])\n",
    "    else:\n",
    "        ax.set_xticklabels(regions,rotation=45)\n",
    "    ax.set_title(variable,fontsize=15)\n",
    "    ax.set_ylim(ylims[count])\n",
    "    ax.set_yticks(yticks[count])\n",
    "    \n",
    "    if count == 0:\n",
    "        ax.set_ylabel('difference (m)',fontsize=15,labelpad=10)\n",
    "    if count == 3:\n",
    "        ax.set_ylabel('difference (%)',fontsize=15,labelpad=10)\n",
    "    \n",
    "plt.savefig('/Users/carmennab/Dropbox/Apps/Overleaf/FOAM sensitivity/main_figs/uncertainty_box.png', dpi=400, \n",
    "            bbox_inches=\"tight\")"
   ]
  }
 ],
 "metadata": {
  "kernelspec": {
   "display_name": "Python 3 (ipykernel)",
   "language": "python",
   "name": "python3"
  },
  "language_info": {
   "codemirror_mode": {
    "name": "ipython",
    "version": 3
   },
   "file_extension": ".py",
   "mimetype": "text/x-python",
   "name": "python",
   "nbconvert_exporter": "python",
   "pygments_lexer": "ipython3",
   "version": "3.8.19"
  }
 },
 "nbformat": 4,
 "nbformat_minor": 5
}
